{
  "cells": [
    {
      "cell_type": "markdown",
      "metadata": {
        "deletable": false,
        "editable": false,
        "nbgrader": {
          "cell_type": "markdown",
          "checksum": "30f48fe4e110765f2484de8781de1a27",
          "grade": false,
          "grade_id": "cell-6899ad425e03acd4",
          "locked": true,
          "schema_version": 3,
          "solution": false,
          "task": false
        },
        "id": "jE-CQknUjeAo"
      },
      "source": [
        "# Phase 3 Code Challenge\n",
        "\n",
        "This assessment is designed to test your understanding of Module 3 material. It covers:\n",
        "\n",
        "* Gradient Descent\n",
        "* Logistic Regression\n",
        "* Classification Metrics\n",
        "* Decision Trees\n",
        "\n",
        "_Read the instructions carefully_. You will be asked both to write code and to answer short answer questions.\n",
        "\n",
        "## Code Tests\n",
        "\n",
        "We have provided some code tests for you to run to check that your work meets the item specifications. Passing these tests does not necessarily mean that you have gotten the item correct - there are additional hidden tests. However, if any of the tests do not pass, this tells you that your code is incorrect and needs changes to meet the specification. To determine what the issue is, read the comments in the code test cells, the error message you receive, and the item instructions.\n",
        "\n",
        "## Short Answer Questions\n",
        "\n",
        "For the short answer questions...\n",
        "\n",
        "* _Use your own words_. It is OK to refer to outside resources when crafting your response, but _do not copy text from another source_.\n",
        "\n",
        "* _Communicate clearly_. We are not grading your writing skills, but you can only receive full credit if your teacher is able to fully understand your response.\n",
        "\n",
        "* _Be concise_. You should be able to answer most short answer questions in a sentence or two. Writing unnecessarily long answers increases the risk of you being unclear or saying something incorrect."
      ]
    },
    {
      "cell_type": "code",
      "execution_count": 1,
      "metadata": {
        "deletable": false,
        "editable": false,
        "nbgrader": {
          "cell_type": "code",
          "checksum": "2758b70aba02b3535c31b6c1ec71c354",
          "grade": false,
          "grade_id": "cell-c2a2bae912a0e147",
          "locked": true,
          "schema_version": 3,
          "solution": false,
          "task": false
        },
        "id": "267jLEhdjeAu"
      },
      "outputs": [],
      "source": [
        "# Run this cell without changes to import the necessary libraries\n",
        "\n",
        "from numbers import Number\n",
        "\n",
        "%matplotlib inline"
      ]
    },
    {
      "cell_type": "markdown",
      "metadata": {
        "deletable": false,
        "editable": false,
        "nbgrader": {
          "cell_type": "markdown",
          "checksum": "01acf96fa82b41706ebb0df6ecf26f0b",
          "grade": false,
          "grade_id": "cell-962cbb6c01caf427",
          "locked": true,
          "schema_version": 3,
          "solution": false,
          "task": false
        },
        "id": "Pn22PW2UjeAw"
      },
      "source": [
        "---\n",
        "## Part 1: Gradient Descent [Suggested Time: 20 min]\n",
        "---\n",
        "In this part, you will describe how gradient descent works to calculate a parameter estimate. Below is an image of a best fit line from a linear regression model using TV advertising spending to predict product sales.\n",
        "\n",
        "![best fit line](https://raw.githubusercontent.com/learn-co-curriculum/dsc-cc-images/main/phase_3/best_fit_line.png)\n",
        "\n",
        "This best fit line can be described by the equation $y = mx + b$. Below is the RSS cost curve associated with the slope parameter $m$:\n",
        "\n",
        "![cost curve](https://raw.githubusercontent.com/learn-co-curriculum/dsc-cc-images/main/phase_3/cost_curve.png)\n",
        "\n",
        "where RSS is the residual sum of squares: $RSS = \\sum_{i=1}^n(y_i - (mx_i + b))^2$"
      ]
    },
    {
      "cell_type": "markdown",
      "metadata": {
        "deletable": false,
        "editable": false,
        "nbgrader": {
          "cell_type": "markdown",
          "checksum": "fe3593bbfb85e4e15028786adeb7cbf6",
          "grade": false,
          "grade_id": "cell-f5be777299f6d5be",
          "locked": true,
          "schema_version": 3,
          "solution": false,
          "task": false
        },
        "id": "BC-2WhFQjeAx"
      },
      "source": [
        "### 1.1) Short Answer: Explain how the RSS curve above could be used to find an optimal value for the slope parameter $m$.\n",
        "\n",
        "Your answer should provide a one sentence summary, not every step of the process."
      ]
    },
    {
      "cell_type": "markdown",
      "metadata": {
        "deletable": false,
        "nbgrader": {
          "cell_type": "markdown",
          "checksum": "097467d4ea2b10ba22912e0ee9705d21",
          "grade": true,
          "grade_id": "cell-9592fca4edae0f59",
          "locked": false,
          "points": 1,
          "schema_version": 3,
          "solution": true,
          "task": false
        },
        "id": "gAy6d1GpjeAy"
      },
      "source": [
        "YOUR ANSWER HERE\n",
        "\n",
        "**The RSS curve can be used to find an optimal m-value by identifying the value on the x-axis where the RSS is minimum before it starts to increase, in this case,the optimal m-value would be around 0.05.**\n",
        "> Indented block\n",
        "\n"
      ]
    },
    {
      "cell_type": "markdown",
      "metadata": {
        "deletable": false,
        "editable": false,
        "nbgrader": {
          "cell_type": "markdown",
          "checksum": "e03583be9d8cee3d32cec7dbd7ac1814",
          "grade": false,
          "grade_id": "cell-04569212f96246b5",
          "locked": true,
          "schema_version": 3,
          "solution": false,
          "task": false
        },
        "id": "fLm4z6QIjeAz"
      },
      "source": [
        "Below is a visualization showing the iterations of a gradient descent algorithm applied the RSS curve. Each yellow marker represents an estimate, and the lines between markers represent the steps taken between estimates in each iteration. Numeric labels identify the iteration numbers.\n",
        "\n",
        "![gradient descent](https://raw.githubusercontent.com/learn-co-curriculum/dsc-cc-images/main/phase_3/gd.png)"
      ]
    },
    {
      "cell_type": "markdown",
      "metadata": {
        "deletable": false,
        "editable": false,
        "nbgrader": {
          "cell_type": "markdown",
          "checksum": "c200ec4566b8772a61a59da3849d347e",
          "grade": false,
          "grade_id": "cell-8f8743b8bb5caf43",
          "locked": true,
          "schema_version": 3,
          "solution": false,
          "task": false
        },
        "id": "LzuuxeJfjeAz"
      },
      "source": [
        "### 1.2) Short Answer: Explain why the distances between markers get smaller over successive iterations."
      ]
    },
    {
      "cell_type": "markdown",
      "metadata": {
        "deletable": false,
        "nbgrader": {
          "cell_type": "markdown",
          "checksum": "9230720877249d70f244fa7c1d2190a7",
          "grade": true,
          "grade_id": "cell-92f5e2e3b194659e",
          "locked": false,
          "points": 1,
          "schema_version": 3,
          "solution": true,
          "task": false
        },
        "id": "i1Cx8GnTjeA0"
      },
      "source": [
        "YOUR ANSWER HERE\n",
        "\n",
        "**The steps become smaller with each iteration because the optimization algorithm is gradually refining the parameter values to approach the optimal solution while minimizing the cost function.**"
      ]
    },
    {
      "cell_type": "markdown",
      "metadata": {
        "deletable": false,
        "editable": false,
        "nbgrader": {
          "cell_type": "markdown",
          "checksum": "72be046cff6a4c9c1ba40c78bf74ef4e",
          "grade": false,
          "grade_id": "cell-f38904edac3e34ba",
          "locked": true,
          "schema_version": 3,
          "solution": false,
          "task": false
        },
        "id": "H7mAKx_VjeA0"
      },
      "source": [
        "### 1.3) Short Answer: What would be the effect of decreasing the learning rate for this application of gradient descent?"
      ]
    },
    {
      "cell_type": "markdown",
      "metadata": {
        "deletable": false,
        "nbgrader": {
          "cell_type": "markdown",
          "checksum": "6b870fa05364e2736032ea30f6b4a2dc",
          "grade": true,
          "grade_id": "cell-0dbe8a38cc3a4ae6",
          "locked": false,
          "points": 1,
          "schema_version": 3,
          "solution": true,
          "task": false
        },
        "id": "o1Soe2FqjeA1"
      },
      "source": [
        "\n",
        "\n",
        "```\n",
        "# This is formatted as code\n",
        "```\n",
        "\n",
        "YOUR ANSWER HERE\n",
        "\n",
        "**The learning rate hyperparameter controls the rate or speed at which the model learns, therefore, decreasing the learning rate would increase the model training time and improve accuracy through stable optimization.**"
      ]
    },
    {
      "cell_type": "markdown",
      "metadata": {
        "deletable": false,
        "editable": false,
        "nbgrader": {
          "cell_type": "markdown",
          "checksum": "129d747f9bbaba14df3bac7690da1c0e",
          "grade": false,
          "grade_id": "cell-58cbc9e518eda9a5",
          "locked": true,
          "schema_version": 3,
          "solution": false,
          "task": false
        },
        "id": "8GIyxD8YjeA1"
      },
      "source": [
        "---\n",
        "## Part 2: Logistic Regression [Suggested Time: 15 min]\n",
        "---\n",
        "In this part, you will answer general questions about logistic regression."
      ]
    },
    {
      "cell_type": "markdown",
      "metadata": {
        "deletable": false,
        "editable": false,
        "nbgrader": {
          "cell_type": "markdown",
          "checksum": "90526361a61eac18192c7be9a224af97",
          "grade": false,
          "grade_id": "cell-a5eed21ce4450ee7",
          "locked": true,
          "schema_version": 3,
          "solution": false,
          "task": false
        },
        "id": "rPiMQnAbjeA1"
      },
      "source": [
        "### 2.1) Short Answer: Provide one reason why logistic regression is better than linear regression for modeling a binary target/outcome."
      ]
    },
    {
      "cell_type": "markdown",
      "metadata": {
        "deletable": false,
        "nbgrader": {
          "cell_type": "markdown",
          "checksum": "c1375f696c7fc1889bdb7dd79917c354",
          "grade": true,
          "grade_id": "cell-998c7e709d5b7ca3",
          "locked": false,
          "points": 1,
          "schema_version": 3,
          "solution": true,
          "task": false
        },
        "id": "LC1av8kLjeA1"
      },
      "source": [
        "YOUR ANSWER HERE\n",
        "\n",
        "**Logistic regression, unlike linear regression which is used for continuous variables, is used for categorical variables which provides interpretable predictions in the form of probabilities thus making it possible to model a binary outcome by predicting the probability of an event occurring or not occurring and therefore making it suitable for classification problems.**"
      ]
    },
    {
      "cell_type": "markdown",
      "metadata": {
        "deletable": false,
        "editable": false,
        "nbgrader": {
          "cell_type": "markdown",
          "checksum": "f9f76874c61135aa00326ee88d27426e",
          "grade": false,
          "grade_id": "cell-fc85e3d7f84c78d9",
          "locked": true,
          "schema_version": 3,
          "solution": false,
          "task": false
        },
        "id": "CbSuvm5EjeA2"
      },
      "source": [
        "### 2.2) Short Answer: Compare logistic regression to another classification model of your choice (e.g. KNN, Decision Tree, etc.). What is one advantage and one disadvantage logistic regression has when compared with the other model?"
      ]
    },
    {
      "cell_type": "markdown",
      "metadata": {
        "deletable": false,
        "nbgrader": {
          "cell_type": "markdown",
          "checksum": "d378f8226af0cf4f5020748cabc3fcfc",
          "grade": true,
          "grade_id": "cell-844af65d19ed2f27",
          "locked": false,
          "points": 2,
          "schema_version": 3,
          "solution": true,
          "task": false
        },
        "id": "2va1Hb_NjeA2"
      },
      "source": [
        "YOUR ANSWER HERE\n",
        "\n",
        "**Advantage: It is easier to train and interpret the relationship between the input and output variables than other models.**\n",
        "\n",
        "**Disadvantage: It is prone to overfitting where there are multiple predictor variables within the model.**"
      ]
    },
    {
      "cell_type": "markdown",
      "metadata": {
        "deletable": false,
        "editable": false,
        "nbgrader": {
          "cell_type": "markdown",
          "checksum": "26c55f47a0e549ecef759436bde4af60",
          "grade": false,
          "grade_id": "cell-0d9d765be95e6cc0",
          "locked": true,
          "schema_version": 3,
          "solution": false,
          "task": false
        },
        "id": "ALXeTojRjeA2"
      },
      "source": [
        "---\n",
        "## Part 3: Classification Metrics [Suggested Time: 20 min]\n",
        "---\n",
        "In this part, you will make sense of classification metrics produced by various classifiers."
      ]
    },
    {
      "cell_type": "markdown",
      "metadata": {
        "deletable": false,
        "editable": false,
        "nbgrader": {
          "cell_type": "markdown",
          "checksum": "31334bb351ccb40606b5a31d79732573",
          "grade": false,
          "grade_id": "cell-d2ad4f31491e50b6",
          "locked": true,
          "schema_version": 3,
          "solution": false,
          "task": false
        },
        "id": "p0gC8JxGjeA2"
      },
      "source": [
        "The confusion matrix below represents the predictions generated by a classisification model on a small testing dataset.\n",
        "\n",
        "![cnf matrix](https://raw.githubusercontent.com/learn-co-curriculum/dsc-cc-images/main/phase_3/cnf_matrix.png)"
      ]
    },
    {
      "cell_type": "markdown",
      "metadata": {
        "deletable": false,
        "editable": false,
        "nbgrader": {
          "cell_type": "markdown",
          "checksum": "0ccb5427afbd7da8c8bbfc26074689d8",
          "grade": false,
          "grade_id": "cell-e4b5c09376d185ce",
          "locked": true,
          "schema_version": 3,
          "solution": false,
          "task": false
        },
        "id": "0hcVG2QDjeA2"
      },
      "source": [
        "### 3.1) Create a numeric variable `precision` containing the precision of the classifier."
      ]
    },
    {
      "cell_type": "markdown",
      "metadata": {
        "deletable": false,
        "editable": false,
        "nbgrader": {
          "cell_type": "markdown",
          "checksum": "cc12859154282ccda11e2b6083a4669a",
          "grade": false,
          "grade_id": "cell-8e01fdcef1cb3959",
          "locked": true,
          "schema_version": 3,
          "solution": false,
          "task": false
        },
        "id": "WOFYF89HjeA2"
      },
      "source": [
        "**Starter Code**\n",
        "\n",
        "    precision = tp / (tp + fp)\n"
      ]
    },
    {
      "cell_type": "code",
      "execution_count": 2,
      "metadata": {
        "deletable": false,
        "nbgrader": {
          "cell_type": "code",
          "checksum": "62df250ec8ff59c6a5ef6da485ff0a7c",
          "grade": false,
          "grade_id": "cell-23b03fa714fd58e0",
          "locked": false,
          "schema_version": 3,
          "solution": true,
          "task": false
        },
        "colab": {
          "base_uri": "https://localhost:8080/"
        },
        "id": "Zoe8Cd41jeA2",
        "outputId": "0e7f535a-b1a8-4be3-d815-58f4df70824f"
      },
      "outputs": [
        {
          "output_type": "stream",
          "name": "stdout",
          "text": [
            "Precision: 0.8181818181818182\n"
          ]
        }
      ],
      "source": [
        "# YOUR CODE HERE\n",
        "# raise NotImplementedError()\n",
        "# Giving a variable to the true positive (TP) and false positive (FP) counts\n",
        "TP = 54  # true positive count\n",
        "FP = 12  # false positive count\n",
        "\n",
        "# Calculate precision\n",
        "precision = TP / (TP + FP)\n",
        "\n",
        "print(\"Precision:\", precision)\n"
      ]
    },
    {
      "cell_type": "code",
      "execution_count": 3,
      "metadata": {
        "deletable": false,
        "editable": false,
        "nbgrader": {
          "cell_type": "code",
          "checksum": "16cc74b1ac65e7b2d37b229bcc73f4ed",
          "grade": true,
          "grade_id": "cell-24bff92e331405ef",
          "locked": true,
          "points": 1,
          "schema_version": 3,
          "solution": false,
          "task": false
        },
        "id": "xHjRzq1wjeA3"
      },
      "outputs": [],
      "source": [
        "# This test confirms that you have created a numeric variable named precision\n",
        "\n",
        "assert isinstance(precision, Number)\n"
      ]
    },
    {
      "cell_type": "markdown",
      "metadata": {
        "deletable": false,
        "editable": false,
        "nbgrader": {
          "cell_type": "markdown",
          "checksum": "af72ffe19a0e62b556efae99d336eaae",
          "grade": false,
          "grade_id": "cell-09e2fa2bf91d1c95",
          "locked": true,
          "schema_version": 3,
          "solution": false,
          "task": false
        },
        "id": "iufHRFefjeA3"
      },
      "source": [
        "### 3.2) Create a numeric variable `f1score` containing the F-1 score of the classifier."
      ]
    },
    {
      "cell_type": "markdown",
      "metadata": {
        "deletable": false,
        "editable": false,
        "nbgrader": {
          "cell_type": "markdown",
          "checksum": "2104a8723d57be74806ca053e613bdf0",
          "grade": false,
          "grade_id": "cell-6bce80c352c6ad99",
          "locked": true,
          "schema_version": 3,
          "solution": false,
          "task": false
        },
        "id": "-Muk-JzbjeA3"
      },
      "source": [
        "**Starter Code**\n",
        "\n",
        "    f1score =  2 * (precision * recall) / (precision + recall)"
      ]
    },
    {
      "cell_type": "code",
      "execution_count": 4,
      "metadata": {
        "deletable": false,
        "nbgrader": {
          "cell_type": "code",
          "checksum": "f8b1b89e1355391bd57017f55956796e",
          "grade": false,
          "grade_id": "cell-ffd51be17b0abd79",
          "locked": false,
          "schema_version": 3,
          "solution": true,
          "task": false
        },
        "colab": {
          "base_uri": "https://localhost:8080/"
        },
        "id": "dvmUQkn7jeA3",
        "outputId": "71726ff6-9266-47f2-ecd8-a96463c0b752"
      },
      "outputs": [
        {
          "output_type": "stream",
          "name": "stdout",
          "text": [
            "F1 Score: 0.8709677419354839\n"
          ]
        }
      ],
      "source": [
        "# YOUR CODE HERE\n",
        "#raise NotImplementedError()\n",
        "\n",
        "TP = 54  # true positive count\n",
        "FP = 12  # false positive count\n",
        "FN = 4   # false negative count\n",
        "TN = 30  # true negative count\n",
        "\n",
        "# Calculate precision\n",
        "precision = TP / (TP + FP)\n",
        "\n",
        "# Calculate recall\n",
        "recall = TP / (TP + FN)\n",
        "\n",
        "# Calculate F1 score\n",
        "f1score = 2 * (precision * recall) / (precision + recall)\n",
        "\n",
        "print(\"F1 Score:\", f1score)\n"
      ]
    },
    {
      "cell_type": "code",
      "execution_count": 5,
      "metadata": {
        "deletable": false,
        "editable": false,
        "nbgrader": {
          "cell_type": "code",
          "checksum": "7b93346bbaee5b614945b30e18251d8d",
          "grade": true,
          "grade_id": "cell-4c709a052f6837ef",
          "locked": true,
          "points": 1,
          "schema_version": 3,
          "solution": false,
          "task": false
        },
        "id": "CcSmsEMpjeA3"
      },
      "outputs": [],
      "source": [
        "# This test confirms that you have created a numeric variable named f1score\n",
        "\n",
        "assert isinstance(f1score, Number)\n"
      ]
    },
    {
      "cell_type": "markdown",
      "metadata": {
        "deletable": false,
        "editable": false,
        "nbgrader": {
          "cell_type": "markdown",
          "checksum": "9e5f12505a06cb15333036c8d6a6f9f4",
          "grade": false,
          "grade_id": "cell-8c9611b7378f9cd8",
          "locked": true,
          "schema_version": 3,
          "solution": false,
          "task": false
        },
        "id": "P1Wx_amejeA3"
      },
      "source": [
        "The ROC curves below were calculated for three different models applied to one dataset.\n",
        "\n",
        "1. Only Age was used as a feature in the model\n",
        "2. Only Estimated Salary was used as a feature in the model\n",
        "3. All features were used in the model\n",
        "\n",
        "![roc](https://raw.githubusercontent.com/learn-co-curriculum/dsc-cc-images/main/phase_3/many_roc.png)"
      ]
    },
    {
      "cell_type": "markdown",
      "metadata": {
        "deletable": false,
        "editable": false,
        "nbgrader": {
          "cell_type": "markdown",
          "checksum": "1630f3f7cab167fe53d65407aab1c04a",
          "grade": false,
          "grade_id": "cell-6b2fccd135d7bd12",
          "locked": true,
          "schema_version": 3,
          "solution": false,
          "task": false
        },
        "id": "dg8vXjSPjeA4"
      },
      "source": [
        "### 3.3) Short Answer: Identify the best ROC curve in the above graph and explain why it is the best."
      ]
    },
    {
      "cell_type": "markdown",
      "metadata": {
        "deletable": false,
        "nbgrader": {
          "cell_type": "markdown",
          "checksum": "9521c9bec43ff4303332b44334b99afb",
          "grade": true,
          "grade_id": "cell-e762fd6e47544af8",
          "locked": false,
          "points": 1,
          "schema_version": 3,
          "solution": true,
          "task": false
        },
        "id": "FDkM80_MjeA4"
      },
      "source": [
        "YOUR ANSWER HERE\n",
        "\n",
        "**The best ROC curve in the graph is the one that is closest to the top-left corner of the plot, which the Pink curve with all features. This is because this curve represents the ideal scenario where the true positive rate (TPR) is high (close to 1) and the false positive rate (FPR) is low (close to 0), and indicates that the classifier achieves a higher true positive rate while keeping the false positive rate low, which is the desired outcome for most classification tasks.**"
      ]
    },
    {
      "cell_type": "markdown",
      "metadata": {
        "deletable": false,
        "editable": false,
        "nbgrader": {
          "cell_type": "markdown",
          "checksum": "795f7f2ea3ba1c8564f452c41a2909c0",
          "grade": false,
          "grade_id": "cell-9a2e4b682abfc6ec",
          "locked": true,
          "schema_version": 3,
          "solution": false,
          "task": false
        },
        "id": "Cp1xq0wIjeA4"
      },
      "source": [
        "Run the following cells to load a sample dataset, run a classification model on it, and perform some EDA."
      ]
    },
    {
      "cell_type": "code",
      "execution_count": 7,
      "metadata": {
        "deletable": false,
        "editable": false,
        "nbgrader": {
          "cell_type": "code",
          "checksum": "4e88eadcd507d9ad60e2c1f0dcaa7078",
          "grade": false,
          "grade_id": "cell-9e7642482fd78eb5",
          "locked": true,
          "schema_version": 3,
          "solution": false,
          "task": false
        },
        "colab": {
          "base_uri": "https://localhost:8080/"
        },
        "id": "kQsJQAicjeA4",
        "outputId": "504ddd73-7141-4de9-9e1f-3ab1f7279f8c"
      },
      "outputs": [
        {
          "output_type": "stream",
          "name": "stdout",
          "text": [
            "The classifier has an accuracy score of 0.956.\n"
          ]
        }
      ],
      "source": [
        "# Run this cell without changes\n",
        "\n",
        "# Include relevant imports\n",
        "import pickle, sklearn\n",
        "from sklearn.model_selection import train_test_split\n",
        "from sklearn.preprocessing import StandardScaler\n",
        "from sklearn.linear_model import LogisticRegression\n",
        "from sklearn.metrics import accuracy_score, roc_curve, roc_auc_score\n",
        "\n",
        "network_df = pickle.load(open('sample_network_data.pkl', 'rb'))\n",
        "\n",
        "# partion features and target\n",
        "X = network_df.drop('Purchased', axis=1)\n",
        "y = network_df['Purchased']\n",
        "\n",
        "# train test split\n",
        "X_train, X_test, y_train, y_test = train_test_split(X, y, random_state=2019)\n",
        "\n",
        "# scale features\n",
        "scale = StandardScaler()\n",
        "scale.fit(X_train)\n",
        "X_train = scale.transform(X_train)\n",
        "X_test = scale.transform(X_test)\n",
        "\n",
        "# build classifier\n",
        "model = LogisticRegression(C=1e5, solver='lbfgs')\n",
        "model.fit(X_train, y_train)\n",
        "y_test_pred = model.predict(X_test)\n",
        "\n",
        "# get the accuracy score\n",
        "print(f'The classifier has an accuracy score of {round(accuracy_score(y_test, y_test_pred), 3)}.')"
      ]
    },
    {
      "cell_type": "code",
      "execution_count": 8,
      "metadata": {
        "deletable": false,
        "editable": false,
        "nbgrader": {
          "cell_type": "code",
          "checksum": "f3ed906de1b630d4b74413bf33e716c5",
          "grade": false,
          "grade_id": "cell-e21cfbd2172b791a",
          "locked": true,
          "schema_version": 3,
          "solution": false,
          "task": false
        },
        "colab": {
          "base_uri": "https://localhost:8080/"
        },
        "id": "I_mFp9VFjeA4",
        "outputId": "57a2dd18-905b-477d-c232-3a99c4a178fe"
      },
      "outputs": [
        {
          "output_type": "execute_result",
          "data": {
            "text/plain": [
              "0    257\n",
              "1     13\n",
              "Name: Purchased, dtype: int64"
            ]
          },
          "metadata": {},
          "execution_count": 8
        }
      ],
      "source": [
        "# Run this cell without changes\n",
        "\n",
        "y.value_counts()"
      ]
    },
    {
      "cell_type": "markdown",
      "metadata": {
        "deletable": false,
        "editable": false,
        "nbgrader": {
          "cell_type": "markdown",
          "checksum": "0cd4052eecbd88ac0eb4ef0232c5bf16",
          "grade": false,
          "grade_id": "cell-b3dee6c580108f26",
          "locked": true,
          "schema_version": 3,
          "solution": false,
          "task": false
        },
        "id": "TzQD1PrWjeA4"
      },
      "source": [
        "### 3.4) Short Answer: Explain how the distribution of `y` shown above could explain the high accuracy score of the classification model."
      ]
    },
    {
      "cell_type": "markdown",
      "metadata": {
        "deletable": false,
        "nbgrader": {
          "cell_type": "markdown",
          "checksum": "19fa9341f8df7ad970e0c3518d3cf2ae",
          "grade": true,
          "grade_id": "cell-0c1e2910641676fb",
          "locked": false,
          "points": 1,
          "schema_version": 3,
          "solution": true,
          "task": false
        },
        "id": "I6gPmpcmjeA5"
      },
      "source": [
        "YOUR ANSWER HERE\n",
        "\n",
        "**The high accuracy score of the classification model may be primarily attributed to the imbalanced distribution of the target variable y, where the majority class dominates the dataset.This highlights the importance of considering other evaluation metrics, such as precision, recall, and F1-score, particularly in the context of imbalanced datasets, to assess the model's performance more comprehensively.**"
      ]
    },
    {
      "cell_type": "markdown",
      "metadata": {
        "deletable": false,
        "editable": false,
        "nbgrader": {
          "cell_type": "markdown",
          "checksum": "61f25186ed3bca261711dcc770e69bc5",
          "grade": false,
          "grade_id": "cell-15288334b184b850",
          "locked": true,
          "schema_version": 3,
          "solution": false,
          "task": false
        },
        "id": "_J9wSQ1UjeA5"
      },
      "source": [
        "### 3.5) Short Answer: What is one method you could use to improve your model to address the issue discovered in Question 3.4?"
      ]
    },
    {
      "cell_type": "markdown",
      "metadata": {
        "deletable": false,
        "nbgrader": {
          "cell_type": "markdown",
          "checksum": "9e9b3ed4ad398c8e921504b812a55802",
          "grade": true,
          "grade_id": "cell-32dc808c69e689d5",
          "locked": false,
          "points": 1,
          "schema_version": 3,
          "solution": true,
          "task": false
        },
        "id": "Gk8YzdltjeA5"
      },
      "source": [
        "\n",
        "\n",
        "```\n",
        "# This is formatted as code\n",
        "```\n",
        "\n",
        "YOUR ANSWER HERE\n",
        "\n",
        "**One method to improve the model's performance and address the issue of class imbalance is by using techniques specifically designed for imbalanced datasets. One popular approach is resampling. Resampling techniques involve either oversampling the minority class, undersampling the majority class, or a combination of both.**\n"
      ]
    },
    {
      "cell_type": "markdown",
      "metadata": {
        "deletable": false,
        "editable": false,
        "nbgrader": {
          "cell_type": "markdown",
          "checksum": "c4d3b90014f6fe7cf93d95283458aea7",
          "grade": false,
          "grade_id": "cell-6bdb41dda25eb6b0",
          "locked": true,
          "schema_version": 3,
          "solution": false,
          "task": false
        },
        "id": "jgN0RWMzjeA5"
      },
      "source": [
        "---\n",
        "## Part 4: Decision Trees [Suggested Time: 20 min]\n",
        "---\n",
        "In this part, you will use decision trees to fit a classification model to a wine dataset. The data contain the results of a chemical analysis of wines grown in one region in Italy using three different cultivars (grape types). There are thirteen features from the measurements taken, and the wines are classified by cultivar in the `target` variable."
      ]
    },
    {
      "cell_type": "code",
      "execution_count": 9,
      "metadata": {
        "deletable": false,
        "editable": false,
        "nbgrader": {
          "cell_type": "code",
          "checksum": "0a544db5e8a689642006d223ed7f3326",
          "grade": false,
          "grade_id": "cell-15de0bc4280a2aac",
          "locked": true,
          "schema_version": 3,
          "solution": false,
          "task": false
        },
        "id": "bYMUZa3PjeA5"
      },
      "outputs": [],
      "source": [
        "# Run this cell without changes\n",
        "\n",
        "# Relevant imports\n",
        "import pandas as pd\n",
        "import numpy as np\n",
        "from sklearn.datasets import load_wine\n",
        "from sklearn.tree import DecisionTreeClassifier\n",
        "\n",
        "# Load the data\n",
        "wine = load_wine()\n",
        "X, y = load_wine(return_X_y=True)\n",
        "X = pd.DataFrame(X, columns=wine.feature_names)\n",
        "y = pd.Series(y)\n",
        "y.name = 'target'"
      ]
    },
    {
      "cell_type": "markdown",
      "metadata": {
        "deletable": false,
        "editable": false,
        "nbgrader": {
          "cell_type": "markdown",
          "checksum": "48d88667709f21d2d79e8dfb668d8025",
          "grade": false,
          "grade_id": "cell-561128e9ee6b0299",
          "locked": true,
          "schema_version": 3,
          "solution": false,
          "task": false
        },
        "id": "DKbDI4UkjeA5"
      },
      "source": [
        "### 4.1) Use `train_test_split()` to evenly split `X` and `y` data between training sets (`X_train` and `y_train`) and test sets (`X_test` and `y_test`), with `random_state=1`.\n",
        "\n",
        "Do not alter `X` or `y` before performing the split."
      ]
    },
    {
      "cell_type": "markdown",
      "metadata": {
        "deletable": false,
        "editable": false,
        "nbgrader": {
          "cell_type": "markdown",
          "checksum": "b109e036bdbf2e195e8899ec1765f06f",
          "grade": false,
          "grade_id": "cell-0be055a675c0a674",
          "locked": true,
          "schema_version": 3,
          "solution": false,
          "task": false
        },
        "id": "P7cupd4wjeA6"
      },
      "source": [
        "**Starter Code**\n",
        "\n",
        "    X_train, X_test, y_train, y_test ="
      ]
    },
    {
      "cell_type": "code",
      "execution_count": 10,
      "metadata": {
        "deletable": false,
        "nbgrader": {
          "cell_type": "code",
          "checksum": "5804e43f932f72eddd045743b7265e5f",
          "grade": false,
          "grade_id": "cell-29337428d5e201ac",
          "locked": false,
          "schema_version": 3,
          "solution": true,
          "task": false
        },
        "colab": {
          "base_uri": "https://localhost:8080/"
        },
        "id": "SEFEuqyLjeA_",
        "outputId": "62cef548-e33b-4796-adfe-f2765713d19a"
      },
      "outputs": [
        {
          "output_type": "stream",
          "name": "stdout",
          "text": [
            "Shape of X_train: (89, 13)\n",
            "Shape of y_train: (89,)\n",
            "Shape of X_test: (89, 13)\n",
            "Shape of y_test: (89,)\n"
          ]
        }
      ],
      "source": [
        "# YOUR CODE HERE\n",
        "#raise NotImplementedError()\n",
        "\n",
        "# Split the data into training and test sets\n",
        "X_train, X_test, y_train, y_test = train_test_split(X, y, test_size=0.5, random_state=1)\n",
        "\n",
        "# Check the shapes of the resulting sets\n",
        "print(\"Shape of X_train:\", X_train.shape)\n",
        "print(\"Shape of y_train:\", y_train.shape)\n",
        "print(\"Shape of X_test:\", X_test.shape)\n",
        "print(\"Shape of y_test:\", y_test.shape)\n"
      ]
    },
    {
      "cell_type": "code",
      "execution_count": 11,
      "metadata": {
        "deletable": false,
        "editable": false,
        "nbgrader": {
          "cell_type": "code",
          "checksum": "45068afa36b798ef1c8df0b49eecf1f5",
          "grade": true,
          "grade_id": "cell-af0600cce7482b4d",
          "locked": true,
          "points": 1,
          "schema_version": 3,
          "solution": false,
          "task": false
        },
        "id": "e3XeMepVjeA_"
      },
      "outputs": [],
      "source": [
        "# These tests confirm that you have created DataFrames named X_train, X_test and Series named y_train, and y_test\n",
        "\n",
        "assert type(X_train) == pd.DataFrame\n",
        "assert type(X_test) == pd.DataFrame\n",
        "assert type(y_train) == pd.Series\n",
        "assert type(y_test) == pd.Series\n",
        "\n",
        "# These tests confirm that you have split the data evenly between train and test sets\n",
        "\n",
        "assert X_train.shape[0] == X_test.shape[0]\n",
        "assert y_train.shape[0] == y_test.shape[0]\n"
      ]
    },
    {
      "cell_type": "markdown",
      "metadata": {
        "deletable": false,
        "editable": false,
        "nbgrader": {
          "cell_type": "markdown",
          "checksum": "70e923ff566fb252a03d0500091690c1",
          "grade": false,
          "grade_id": "cell-eac2fc7be9725bf0",
          "locked": true,
          "schema_version": 3,
          "solution": false,
          "task": false
        },
        "id": "X3mi-NS3jeBA"
      },
      "source": [
        "### 4.2) Create an untuned decision tree classifier `wine_dt` and fit it using `X_train` and `y_train`, with `random_state=1`.\n",
        "\n",
        "Use parameter defaults for your classifier. You must use the Scikit-learn DecisionTreeClassifier (docs [here](https://scikit-learn.org/stable/modules/generated/sklearn.tree.DecisionTreeClassifier.html))"
      ]
    },
    {
      "cell_type": "markdown",
      "metadata": {
        "deletable": false,
        "editable": false,
        "nbgrader": {
          "cell_type": "markdown",
          "checksum": "fa2c57de271d7cdef7050f09357dc8ca",
          "grade": false,
          "grade_id": "cell-28bca1a3b0de0dd8",
          "locked": true,
          "schema_version": 3,
          "solution": false,
          "task": false
        },
        "id": "6Mj7AVy5jeBA"
      },
      "source": [
        "**Starter Code**\n",
        "\n",
        "    wine_dt ="
      ]
    },
    {
      "cell_type": "code",
      "execution_count": 12,
      "metadata": {
        "deletable": false,
        "nbgrader": {
          "cell_type": "code",
          "checksum": "7dff5ce799834929dd4329a61f490360",
          "grade": false,
          "grade_id": "cell-6257f2b7a69b3632",
          "locked": false,
          "schema_version": 3,
          "solution": true,
          "task": false
        },
        "colab": {
          "base_uri": "https://localhost:8080/",
          "height": 74
        },
        "id": "VuWeHH3OjeBA",
        "outputId": "1cf20dbf-21ad-44d6-940a-dc3c7b31916d"
      },
      "outputs": [
        {
          "output_type": "execute_result",
          "data": {
            "text/plain": [
              "DecisionTreeClassifier(random_state=1)"
            ],
            "text/html": [
              "<style>#sk-container-id-1 {color: black;background-color: white;}#sk-container-id-1 pre{padding: 0;}#sk-container-id-1 div.sk-toggleable {background-color: white;}#sk-container-id-1 label.sk-toggleable__label {cursor: pointer;display: block;width: 100%;margin-bottom: 0;padding: 0.3em;box-sizing: border-box;text-align: center;}#sk-container-id-1 label.sk-toggleable__label-arrow:before {content: \"▸\";float: left;margin-right: 0.25em;color: #696969;}#sk-container-id-1 label.sk-toggleable__label-arrow:hover:before {color: black;}#sk-container-id-1 div.sk-estimator:hover label.sk-toggleable__label-arrow:before {color: black;}#sk-container-id-1 div.sk-toggleable__content {max-height: 0;max-width: 0;overflow: hidden;text-align: left;background-color: #f0f8ff;}#sk-container-id-1 div.sk-toggleable__content pre {margin: 0.2em;color: black;border-radius: 0.25em;background-color: #f0f8ff;}#sk-container-id-1 input.sk-toggleable__control:checked~div.sk-toggleable__content {max-height: 200px;max-width: 100%;overflow: auto;}#sk-container-id-1 input.sk-toggleable__control:checked~label.sk-toggleable__label-arrow:before {content: \"▾\";}#sk-container-id-1 div.sk-estimator input.sk-toggleable__control:checked~label.sk-toggleable__label {background-color: #d4ebff;}#sk-container-id-1 div.sk-label input.sk-toggleable__control:checked~label.sk-toggleable__label {background-color: #d4ebff;}#sk-container-id-1 input.sk-hidden--visually {border: 0;clip: rect(1px 1px 1px 1px);clip: rect(1px, 1px, 1px, 1px);height: 1px;margin: -1px;overflow: hidden;padding: 0;position: absolute;width: 1px;}#sk-container-id-1 div.sk-estimator {font-family: monospace;background-color: #f0f8ff;border: 1px dotted black;border-radius: 0.25em;box-sizing: border-box;margin-bottom: 0.5em;}#sk-container-id-1 div.sk-estimator:hover {background-color: #d4ebff;}#sk-container-id-1 div.sk-parallel-item::after {content: \"\";width: 100%;border-bottom: 1px solid gray;flex-grow: 1;}#sk-container-id-1 div.sk-label:hover label.sk-toggleable__label {background-color: #d4ebff;}#sk-container-id-1 div.sk-serial::before {content: \"\";position: absolute;border-left: 1px solid gray;box-sizing: border-box;top: 0;bottom: 0;left: 50%;z-index: 0;}#sk-container-id-1 div.sk-serial {display: flex;flex-direction: column;align-items: center;background-color: white;padding-right: 0.2em;padding-left: 0.2em;position: relative;}#sk-container-id-1 div.sk-item {position: relative;z-index: 1;}#sk-container-id-1 div.sk-parallel {display: flex;align-items: stretch;justify-content: center;background-color: white;position: relative;}#sk-container-id-1 div.sk-item::before, #sk-container-id-1 div.sk-parallel-item::before {content: \"\";position: absolute;border-left: 1px solid gray;box-sizing: border-box;top: 0;bottom: 0;left: 50%;z-index: -1;}#sk-container-id-1 div.sk-parallel-item {display: flex;flex-direction: column;z-index: 1;position: relative;background-color: white;}#sk-container-id-1 div.sk-parallel-item:first-child::after {align-self: flex-end;width: 50%;}#sk-container-id-1 div.sk-parallel-item:last-child::after {align-self: flex-start;width: 50%;}#sk-container-id-1 div.sk-parallel-item:only-child::after {width: 0;}#sk-container-id-1 div.sk-dashed-wrapped {border: 1px dashed gray;margin: 0 0.4em 0.5em 0.4em;box-sizing: border-box;padding-bottom: 0.4em;background-color: white;}#sk-container-id-1 div.sk-label label {font-family: monospace;font-weight: bold;display: inline-block;line-height: 1.2em;}#sk-container-id-1 div.sk-label-container {text-align: center;}#sk-container-id-1 div.sk-container {/* jupyter's `normalize.less` sets `[hidden] { display: none; }` but bootstrap.min.css set `[hidden] { display: none !important; }` so we also need the `!important` here to be able to override the default hidden behavior on the sphinx rendered scikit-learn.org. See: https://github.com/scikit-learn/scikit-learn/issues/21755 */display: inline-block !important;position: relative;}#sk-container-id-1 div.sk-text-repr-fallback {display: none;}</style><div id=\"sk-container-id-1\" class=\"sk-top-container\"><div class=\"sk-text-repr-fallback\"><pre>DecisionTreeClassifier(random_state=1)</pre><b>In a Jupyter environment, please rerun this cell to show the HTML representation or trust the notebook. <br />On GitHub, the HTML representation is unable to render, please try loading this page with nbviewer.org.</b></div><div class=\"sk-container\" hidden><div class=\"sk-item\"><div class=\"sk-estimator sk-toggleable\"><input class=\"sk-toggleable__control sk-hidden--visually\" id=\"sk-estimator-id-1\" type=\"checkbox\" checked><label for=\"sk-estimator-id-1\" class=\"sk-toggleable__label sk-toggleable__label-arrow\">DecisionTreeClassifier</label><div class=\"sk-toggleable__content\"><pre>DecisionTreeClassifier(random_state=1)</pre></div></div></div></div></div>"
            ]
          },
          "metadata": {},
          "execution_count": 12
        }
      ],
      "source": [
        "# YOUR CODE HERE\n",
        "# raise NotImplementedError()\n",
        "\n",
        "from sklearn.tree import DecisionTreeClassifier\n",
        "\n",
        "# Create an untuned decision tree classifier\n",
        "wine_dt = DecisionTreeClassifier(random_state=1)\n",
        "\n",
        "# Fit the classifier using X_train and y_train\n",
        "wine_dt.fit(X_train, y_train)\n"
      ]
    },
    {
      "cell_type": "code",
      "execution_count": 13,
      "metadata": {
        "deletable": false,
        "editable": false,
        "nbgrader": {
          "cell_type": "code",
          "checksum": "a2a3501531cf24a6239d64280879037c",
          "grade": true,
          "grade_id": "cell-ea227af7f35a3ab3",
          "locked": true,
          "points": 1,
          "schema_version": 3,
          "solution": false,
          "task": false
        },
        "id": "ntpUOnFQjeBA"
      },
      "outputs": [],
      "source": [
        "# This test confirms that you have created a DecisionTreeClassifier named wine_dt\n",
        "\n",
        "assert type(wine_dt) == DecisionTreeClassifier\n",
        "\n",
        "# This test confirms that you have set random_state to 1\n",
        "\n",
        "assert wine_dt.get_params()['random_state'] == 1\n",
        "\n",
        "# This test confirms that wine_dt has been fit\n",
        "\n",
        "sklearn.utils.validation.check_is_fitted(wine_dt)\n"
      ]
    },
    {
      "cell_type": "markdown",
      "metadata": {
        "deletable": false,
        "editable": false,
        "nbgrader": {
          "cell_type": "markdown",
          "checksum": "7bc994e0afc2b0ff2480d6d700fad344",
          "grade": false,
          "grade_id": "cell-55b417dc67abb7c6",
          "locked": true,
          "schema_version": 3,
          "solution": false,
          "task": false
        },
        "id": "Ae7B9g3UjeBA"
      },
      "source": [
        "### 4.3) Create an array `y_pred` generated by using `wine_dt` to make predictions for the test data."
      ]
    },
    {
      "cell_type": "markdown",
      "metadata": {
        "id": "vvGGY530jeBB"
      },
      "source": [
        "**Starter Code**\n",
        "\n",
        "    y_pred ="
      ]
    },
    {
      "cell_type": "code",
      "execution_count": 14,
      "metadata": {
        "deletable": false,
        "nbgrader": {
          "cell_type": "code",
          "checksum": "ec7c74c08a3503b7c5d6b70559a7e475",
          "grade": false,
          "grade_id": "cell-7b35ea9c1a52b94d",
          "locked": false,
          "schema_version": 3,
          "solution": true,
          "task": false
        },
        "id": "pCFriNbEjeBB"
      },
      "outputs": [],
      "source": [
        "# YOUR CODE HERE\n",
        "#raise NotImplementedError()\n",
        "\n",
        "# Generate predictions for the test data\n",
        "y_pred = wine_dt.predict(X_test)\n"
      ]
    },
    {
      "cell_type": "code",
      "execution_count": 15,
      "metadata": {
        "deletable": false,
        "editable": false,
        "nbgrader": {
          "cell_type": "code",
          "checksum": "fe7fc5987ea20dccd9518f7c3a1627a6",
          "grade": true,
          "grade_id": "cell-65997acdbf1d40fd",
          "locked": true,
          "points": 1,
          "schema_version": 3,
          "solution": false,
          "task": false
        },
        "id": "ARgB_TunjeBB"
      },
      "outputs": [],
      "source": [
        "# This test confirms that you have created an array-like object named y_pred\n",
        "\n",
        "assert type(np.asarray(y_pred)) == np.ndarray\n"
      ]
    },
    {
      "cell_type": "markdown",
      "metadata": {
        "deletable": false,
        "editable": false,
        "nbgrader": {
          "cell_type": "markdown",
          "checksum": "0ff8f061876370d22556355f056cf052",
          "grade": false,
          "grade_id": "cell-536526728a8066e2",
          "locked": true,
          "schema_version": 3,
          "solution": false,
          "task": false
        },
        "id": "KPHwqFP3jeBB"
      },
      "source": [
        "### 4.4) Create a numeric variable `wine_dt_acc` containing the accuracy score for your predictions.\n",
        "\n",
        "Hint: You can use the `sklearn.metrics` module."
      ]
    },
    {
      "cell_type": "markdown",
      "metadata": {
        "deletable": false,
        "editable": false,
        "nbgrader": {
          "cell_type": "markdown",
          "checksum": "bfeec9c6c769a1b5c8289395d3d571f9",
          "grade": false,
          "grade_id": "cell-67272706fb08c3bf",
          "locked": true,
          "schema_version": 3,
          "solution": false,
          "task": false
        },
        "id": "XA9nOsq8jeBB"
      },
      "source": [
        "**Starter Code**\n",
        "\n",
        "    wine_dt_acc ="
      ]
    },
    {
      "cell_type": "code",
      "execution_count": 16,
      "metadata": {
        "deletable": false,
        "nbgrader": {
          "cell_type": "code",
          "checksum": "973d397c4de1ea1e63ae6c17624bba4e",
          "grade": false,
          "grade_id": "cell-e794531b2882fed2",
          "locked": false,
          "schema_version": 3,
          "solution": true,
          "task": false
        },
        "colab": {
          "base_uri": "https://localhost:8080/"
        },
        "id": "Krq9ozMojeBB",
        "outputId": "693ba8bb-b5d0-422f-aae3-9c678ec8411c"
      },
      "outputs": [
        {
          "output_type": "stream",
          "name": "stdout",
          "text": [
            "Accuracy Score: 0.8764044943820225\n"
          ]
        }
      ],
      "source": [
        "# YOUR CODE HERE\n",
        "# raise NotImplementedError()\n",
        "\n",
        "from sklearn.metrics import accuracy_score\n",
        "\n",
        "# Calculate the accuracy score for the predictions\n",
        "wine_dt_acc = accuracy_score(y_test, y_pred)\n",
        "\n",
        "print(\"Accuracy Score:\", wine_dt_acc)\n"
      ]
    },
    {
      "cell_type": "code",
      "execution_count": 17,
      "metadata": {
        "deletable": false,
        "editable": false,
        "nbgrader": {
          "cell_type": "code",
          "checksum": "1c3c4109b0ca37d4a7816ec74b0a8b4f",
          "grade": true,
          "grade_id": "cell-ff589fa4102e3fe6",
          "locked": true,
          "points": 1,
          "schema_version": 3,
          "solution": false,
          "task": false
        },
        "id": "-WzQmsUijeBB"
      },
      "outputs": [],
      "source": [
        "# This test confirms that you have created a numeric variable named wine_dt_acc\n",
        "\n",
        "assert isinstance(wine_dt_acc, Number)\n"
      ]
    },
    {
      "cell_type": "markdown",
      "metadata": {
        "deletable": false,
        "editable": false,
        "nbgrader": {
          "cell_type": "markdown",
          "checksum": "37ed9b8d11aa94ddc8e5179743bf25ca",
          "grade": false,
          "grade_id": "cell-266fbd755dbbb4c2",
          "locked": true,
          "schema_version": 3,
          "solution": false,
          "task": false
        },
        "id": "9g_023tDjeBC"
      },
      "source": [
        "### 4.5) Short Answer: Based on the accuracy score, does the model seem to be performing well or to have substantial performance issues? Explain your answer."
      ]
    },
    {
      "cell_type": "markdown",
      "metadata": {
        "deletable": false,
        "nbgrader": {
          "cell_type": "markdown",
          "checksum": "fe125edaa9a90b9112b76a7891c73582",
          "grade": true,
          "grade_id": "cell-02230a848305760d",
          "locked": false,
          "points": 1,
          "schema_version": 3,
          "solution": true,
          "task": false
        },
        "id": "wwHr3gzNjeBC"
      },
      "source": [
        "YOUR ANSWER HERE\n",
        "\n",
        "**Based on the accuracy score of approximately 0.876, the model seems to be performing quite well. An accuracy score of around 0.876 indicates that the model correctly predicted the class labels for approximately 87.6% of the instances in the test set.**"
      ]
    }
  ],
  "metadata": {
    "kernelspec": {
      "display_name": "Python (python3)",
      "language": "python",
      "name": "python3"
    },
    "language_info": {
      "codemirror_mode": {
        "name": "ipython",
        "version": 3
      },
      "file_extension": ".py",
      "mimetype": "text/x-python",
      "name": "python",
      "nbconvert_exporter": "python",
      "pygments_lexer": "ipython3",
      "version": "3.9.5"
    },
    "toc": {
      "base_numbering": 1,
      "nav_menu": {},
      "number_sections": true,
      "sideBar": true,
      "skip_h1_title": false,
      "title_cell": "Table of Contents",
      "title_sidebar": "Contents",
      "toc_cell": false,
      "toc_position": {},
      "toc_section_display": true,
      "toc_window_display": false
    },
    "colab": {
      "provenance": []
    }
  },
  "nbformat": 4,
  "nbformat_minor": 0
}